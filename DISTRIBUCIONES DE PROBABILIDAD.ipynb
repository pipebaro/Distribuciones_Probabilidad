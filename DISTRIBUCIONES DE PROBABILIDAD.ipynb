{
 "cells": [
  {
   "cell_type": "code",
   "execution_count": 1,
   "metadata": {},
   "outputs": [
    {
     "name": "stdout",
     "output_type": "stream",
     "text": [
      "\u001b[32m\u001b[1mStatus\u001b[22m\u001b[39m `C:\\Users\\Mauricio\\.julia\\environments\\v1.5\\Project.toml`\n",
      " \u001b[90m [c52e3926] \u001b[39m\u001b[37mAtom v0.12.30\u001b[39m\n",
      " \u001b[90m [a93c6f00] \u001b[39m\u001b[37mDataFrames v0.22.7\u001b[39m\n",
      " \u001b[90m [0c46a032] \u001b[39m\u001b[37mDifferentialEquations v6.16.0\u001b[39m\n",
      " \u001b[90m [c91e804a] \u001b[39m\u001b[37mGadfly v1.3.2\u001b[39m\n",
      " \u001b[90m [7073ff75] \u001b[39m\u001b[37mIJulia v1.23.2\u001b[39m\n",
      " \u001b[90m [4076af6c] \u001b[39m\u001b[37mJuMP v0.21.6\u001b[39m\n",
      " \u001b[90m [e5e0dc1b] \u001b[39m\u001b[37mJuno v0.8.4\u001b[39m\n"
     ]
    }
   ],
   "source": [
    "using Pkg\n",
    "Pkg.status()"
   ]
  },
  {
   "cell_type": "code",
   "execution_count": 2,
   "metadata": {},
   "outputs": [
    {
     "data": {
      "text/plain": [
       "binomcurtosis (generic function with 1 method)"
      ]
     },
     "execution_count": 2,
     "metadata": {},
     "output_type": "execute_result"
    }
   ],
   "source": [
    "#Distribucion_Binomial\n",
    "#Todo lo relacionado con la distribucion binomila va acá\n",
    "function binom(n,p)\n",
    "    q=(1-p)\n",
    "    \n",
    "    media=n*p\n",
    "    \n",
    "    varianza=n*p*q\n",
    "    \n",
    "    teta= (q-p)/((n*q*p)^0.5)\n",
    "    \n",
    "#    curtosis=n\n",
    "    return q,media,varianza,teta\n",
    "end\n",
    "#funcion generadora de momentos\n",
    "function mometobinomt(n,p,t)\n",
    "    q=(1 - p)\n",
    "    \n",
    "    m=(q + p*(ℯ^t))^n\n",
    "    \n",
    "    return m\n",
    "end\n",
    "function binomcurtosis(n,p) \n",
    "    q=(1 - p)\n",
    "    \n",
    "    tet= (q - p)/((n*q*p)^0.5)\n",
    "    \n",
    "    c=(q + p*(ℯ^tet))^n\n",
    "    \n",
    "    return c\n",
    "end\n",
    "    "
   ]
  },
  {
   "cell_type": "code",
   "execution_count": 3,
   "metadata": {},
   "outputs": [
    {
     "name": "stdout",
     "output_type": "stream",
     "text": [
      "22.210664019743003"
     ]
    },
    {
     "ename": "LoadError",
     "evalue": "\u001b[91mUndefVarError: Binom not defined\u001b[39m",
     "output_type": "error",
     "traceback": [
      "\u001b[91mUndefVarError: Binom not defined\u001b[39m",
      "",
      "Stacktrace:",
      " [1] top-level scope at In[3]:3",
      " [2] include_string(::Function, ::Module, ::String, ::String) at .\\loading.jl:1091"
     ]
    }
   ],
   "source": [
    "#PRUEBAS DE BINOMIAL\n",
    "print((mometobinomt(5,0.5,1)))\n",
    "print(Binom(5,0.5))\n"
   ]
  },
  {
   "cell_type": "code",
   "execution_count": 4,
   "metadata": {},
   "outputs": [
    {
     "data": {
      "text/plain": [
       "mometopoissont (generic function with 1 method)"
      ]
     },
     "execution_count": 4,
     "metadata": {},
     "output_type": "execute_result"
    }
   ],
   "source": [
    "#Distribucion_de_Poisson\n",
    "function poisson(n,p,x)\n",
    "    alf = n*p\n",
    "    \n",
    "    p = (ℯ^(-1*alf))*(alf^x / factorial(x))\n",
    "    \n",
    "    media = alf\n",
    "    \n",
    "    varianza = alf\n",
    "    \n",
    "    gamma = 1/(alf)^0.5\n",
    "    \n",
    "    k = 3 + 1/alf\n",
    "    \n",
    "    return alf, p, media, varianza, gamma, k\n",
    "end\n",
    "#Funcion generadora de momentos\n",
    "function mometopoissont(n,p,t)\n",
    "    alf = n*p\n",
    "    \n",
    "    m=ℯ^(alf*(ℯ^t - 1))\n",
    "    \n",
    "    return m\n",
    "end\n",
    "#function cpoissont(n,p,t)\n",
    "#    alf = n*p\n",
    "#    m=ℯ^(alf*(ℯ^t - 1))\n",
    "#    return m\n",
    "#end"
   ]
  },
  {
   "cell_type": "code",
   "execution_count": 5,
   "metadata": {},
   "outputs": [
    {
     "name": "stdout",
     "output_type": "stream",
     "text": [
      "(18, 0.07857552495347772, 18, 18, 0.23570226039551587, 3.0555555555555554)"
     ]
    }
   ],
   "source": [
    "print(poisson(6,3,15))"
   ]
  },
  {
   "cell_type": "code",
   "execution_count": 6,
   "metadata": {},
   "outputs": [
    {
     "data": {
      "text/plain": [
       "Dgeométrica (generic function with 1 method)"
      ]
     },
     "execution_count": 6,
     "metadata": {},
     "output_type": "execute_result"
    }
   ],
   "source": [
    "#Distribucion_geométrica\n",
    "function Dgeométrica(p,x)\n",
    "    q=(1 - p)\n",
    "    \n",
    "    fun = p*q^(x-1)\n",
    "    \n",
    "    media = 1/p\n",
    "    \n",
    "    varianza = q/p^2\n",
    "    \n",
    "    return fun, media, varianza\n",
    "end"
   ]
  },
  {
   "cell_type": "code",
   "execution_count": 7,
   "metadata": {},
   "outputs": [
    {
     "data": {
      "text/plain": [
       "dhipergeo (generic function with 1 method)"
      ]
     },
     "execution_count": 7,
     "metadata": {},
     "output_type": "execute_result"
    }
   ],
   "source": [
    "#Distribucion_hipergeométrica\n",
    "function comb(n,k)\n",
    "    com=factorial(big(n)) / (factorial(big(k)) * (factorial( big(n - k))))\n",
    "    return com\n",
    "end\n",
    "function dhipergeo(N,R,n,x)\n",
    "    c1 = N-R\n",
    "    c2 = n-x\n",
    "    fun = (comb(R,x)*comb(c1, c2))/comb(N,n)\n",
    "    return fun\n",
    "end\n"
   ]
  },
  {
   "cell_type": "code",
   "execution_count": 8,
   "metadata": {},
   "outputs": [
    {
     "name": "stdout",
     "output_type": "stream",
     "text": [
      "0.2954090928190484725371669540160647133853253718288486909827700485046945905102371"
     ]
    }
   ],
   "source": [
    "print(dhipergeo(50,12,12,3))"
   ]
  },
  {
   "cell_type": "code",
   "execution_count": 9,
   "metadata": {},
   "outputs": [
    {
     "data": {
      "text/plain": [
       "dhipergeo (generic function with 1 method)"
      ]
     },
     "execution_count": 9,
     "metadata": {},
     "output_type": "execute_result"
    }
   ],
   "source": [
    "#Distribucion_uniforme\n",
    "function comb(n,k)\n",
    "    com=factorial(big(n)) / (factorial(big(k)) * (factorial( big(n - k))))\n",
    "    return com\n",
    "end\n",
    "function dhipergeo(N,R,n,x)\n",
    "    c1 = N-R\n",
    "    c2 = n-x\n",
    "    fun = (comb(R,x)*comb(c1, c2))/comb(N,n)\n",
    "    return fun\n",
    "end"
   ]
  },
  {
   "cell_type": "code",
   "execution_count": null,
   "metadata": {},
   "outputs": [],
   "source": []
  }
 ],
 "metadata": {
  "kernelspec": {
   "display_name": "Julia 1.5.3",
   "language": "julia",
   "name": "julia-1.5"
  },
  "language_info": {
   "file_extension": ".jl",
   "mimetype": "application/julia",
   "name": "julia",
   "version": "1.5.3"
  }
 },
 "nbformat": 4,
 "nbformat_minor": 4
}
